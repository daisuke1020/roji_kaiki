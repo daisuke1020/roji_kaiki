{
 "cells": [
  {
   "cell_type": "markdown",
   "id": "6bce734b-1ce5-4622-a6d2-d32b1b6fe1e6",
   "metadata": {},
   "source": [
    "# ロジスティック回帰"
   ]
  },
  {
   "cell_type": "markdown",
   "id": "b50ca6b2-e0d4-4774-aa5f-0f8afea5cbc8",
   "metadata": {},
   "source": [
    "## ロジスティック回帰のクラスをスクラッチで作成していきます。NumPyなど最低限のライブラリのみを使いアルゴリズムを実装していきます。\n",
    "### 以下に雛形を用意してあります。このScratchLogisticRegressionクラスにコードを書き加えていってください。推定関係のメソッドは線形回帰と異なり、ラベルを出力するpredictメソッドと、確率を出力するpredict_probaメソッドの2種類を作成します。"
   ]
  },
  {
   "cell_type": "markdown",
   "id": "28d8de2e-796a-4117-a3c3-7a63f196c9e1",
   "metadata": {},
   "source": [
    "## 【問題1】仮定関数"
   ]
  },
  {
   "cell_type": "markdown",
   "id": "bbd0b38f-dd5f-410a-901f-3ab51c7b9ff8",
   "metadata": {},
   "source": [
    "## ロジスティック回帰の仮定関数のメソッドをScratchLogisticRegressionクラスに実装してください。\n",
    "## ロジスティック回帰の仮定関数は、線形回帰の仮定関数を シグモイド関数 に通したものです。シグモイド関数は以下の式で表されます。\n",
    "\n"
   ]
  },
  {
   "cell_type": "markdown",
   "id": "372710af-33ac-4c5e-8c15-2dd2fc097283",
   "metadata": {},
   "source": [
    "$$\n",
    "g(z)=1/(1+e**−z)\n",
    "$$"
   ]
  },
  {
   "cell_type": "markdown",
   "id": "d0e7b0fb-383c-4ee5-ba34-368e4d89c3cb",
   "metadata": {},
   "source": [
    "## 線形回帰の仮定関数は次の式でした。"
   ]
  },
  {
   "cell_type": "markdown",
   "id": "3471b2a8-38d2-4574-adee-f167afb120e8",
   "metadata": {},
   "source": [
    "$$\n",
    "hθ(x)=θT⋅x.\n",
    "$$"
   ]
  },
  {
   "cell_type": "markdown",
   "id": "a8734843-4205-49f4-b4ed-426fd0dbb8ad",
   "metadata": {},
   "source": [
    "## まとめて書くと、ロジスティック回帰の仮定関数は次のようになります。"
   ]
  },
  {
   "cell_type": "markdown",
   "id": "f38b309c-96dd-4b45-88ec-a18ed25adf4a",
   "metadata": {},
   "source": [
    "$$\n",
    "hθ(x)=1/(1+e**(−θT⋅x))\n",
    "$$"
   ]
  },
  {
   "cell_type": "code",
   "execution_count": 1,
   "id": "8bc48aa1-fad1-4398-8b33-33173e008a5d",
   "metadata": {},
   "outputs": [],
   "source": [
    "def _linear_hypo(self, X):  #仮定関数\n",
    "    a = np.ones(X.shape[0])       # Xと同じ長さの１の配列を作る\n",
    "    a_=a.reshape(X.shape[0], 1)   # X_の配列の型を変更する\n",
    "    X_ = np.hstack([a_ ,X])         # X,X_を結合させる\n",
    "    self.Theta = np.random.rand(X_.shape[1], 1)\n",
    "    self.y_ = 1/(1 + np.exp(-np.dot(X_,self.Theta)))\n",
    "    return self.y_"
   ]
  },
  {
   "cell_type": "markdown",
   "id": "080f957d-dab1-4776-83dc-21df22a4fdac",
   "metadata": {},
   "source": [
    "# 【問題2】最急降下法"
   ]
  },
  {
   "cell_type": "markdown",
   "id": "83b8e409-9d4f-4479-a738-ed7ed3f6479a",
   "metadata": {},
   "source": [
    "## 最急降下法により学習させる実装を行なってください。以下の式で表されるパラメータの更新式のメソッド_gradient_descentを追加し、fitメソッドから呼び出すようにしてください。"
   ]
  },
  {
   "cell_type": "markdown",
   "id": "1d734ae4-d4c0-4222-8d6b-ef5233a7330a",
   "metadata": {},
   "source": [
    "$$\n",
    "θj=θj−α*∂J(θ)/∂θj\n",
    "$$\n",
    "\n",
    "$$\n",
    "∂J(θ)/∂θ0=1/m(m∑i=1)*(hθ(x(i))−y(i))*x(i,j),j=0\n",
    "$$\n",
    "\n",
    "$$\n",
    "∂J(θ)/∂θj=(1/m(m∑i=1)*(hθ(x(i))−y(i))*x(i,j)+(λ/m)*θj　,j≥1\n",
    "$$"
   ]
  },
  {
   "cell_type": "markdown",
   "id": "3675a1a4-9c70-4215-a819-2ce6515af83f",
   "metadata": {},
   "source": [
    "### 以上の式には正則化項が含まれます。正則化項は過学習を防ぐ目的で用いられます。切片である$\\theta_0$が正則化項に含まれていないのは、切片を除いた、特徴量に対する係数を同じ視点で議論することができるようにするためです。"
   ]
  },
  {
   "cell_type": "code",
   "execution_count": 2,
   "id": "0a62ac6e-c202-43bb-98f9-4ebe0c512511",
   "metadata": {},
   "outputs": [],
   "source": [
    "def _grad(self,X,error):\n",
    "    \n",
    "    m = X.shape[0]  #サンプル数\n",
    "    n = X.shape[1]  #特徴量数\n",
    "    for j in range(n):\n",
    "        grad = 0\n",
    "        for i in range(m):\n",
    "            grad += (error[i] * X_[i,j]) + (1/m)*Theta[j]\n",
    "        Theta[j] =Theta[j] -  (self.lr/m)*grad\n",
    "       \n",
    "    return Theta"
   ]
  },
  {
   "cell_type": "markdown",
   "id": "599cd5aa-a083-4870-bf34-577221133bb2",
   "metadata": {},
   "source": [
    "## 【問題3】推定"
   ]
  },
  {
   "cell_type": "markdown",
   "id": "d963c8ab-92e3-468c-8f1a-a71e1d7739cd",
   "metadata": {},
   "source": [
    "### 推定する仕組みを実装してください。ScratchLogisticRegressionクラスの雛形に含まれるpredictメソッドとpredict_probaメソッドに書き加えてください。\n",
    "### 仮定関数 $h_\\theta(x)$ の出力がpredict_probaの戻り値、さらにその値に閾値を設けて1と0のラベルとしたものがpredictの戻り値となります。"
   ]
  },
  {
   "cell_type": "code",
   "execution_count": 3,
   "id": "1e7b1a3d-2073-48a6-b32f-271b11ddeb98",
   "metadata": {},
   "outputs": [],
   "source": [
    "def predict(self,X):\n",
    "    return np.where(self.predict_prob(X) >= 0.5, 1, 0)\n",
    "\n",
    "\n",
    "def predict_prob(self,X):\n",
    "    return self._linear_hypo(X)"
   ]
  },
  {
   "cell_type": "markdown",
   "id": "6d9f5f1f-f73f-4fda-970f-f6553b2d1cb4",
   "metadata": {},
   "source": [
    "## 【問題4】目的関数"
   ]
  },
  {
   "cell_type": "markdown",
   "id": "974e1c54-15be-490b-8c91-7b214af59b15",
   "metadata": {},
   "source": [
    "### 以下の数式で表されるロジスティック回帰の 目的関数（損失関数） を実装してください。そして、これをself.loss, self.val_lossに記録するようにしてください。\n",
    "### なお、この数式には正則化項が含まれています。"
   ]
  },
  {
   "cell_type": "markdown",
   "id": "9db4608c-507d-4667-ab6f-90954ef84b7f",
   "metadata": {},
   "source": [
    "$$\n",
    "J(θ)=1/m(m∑i=1)*[−y(i)log(hθ(x(i)))−(1−y(i))*log(1−hθ(x(i)))]+λ/2m(n∑j=1)*θ2j\n",
    "$$"
   ]
  },
  {
   "cell_type": "code",
   "execution_count": 4,
   "id": "7f90b1f2-30fe-44cf-a8fb-91d52df4db4a",
   "metadata": {},
   "outputs": [],
   "source": [
    "def _loss(self,X,y):\n",
    "    \n",
    "    return (-y*np.log(_linear_hypo(X))-(1-y)*np.log(1-_linear_hypo(X)))"
   ]
  },
  {
   "cell_type": "markdown",
   "id": "ecaa1128-d7d2-4c6a-8363-b4c8a70bfcbf",
   "metadata": {},
   "source": [
    "## 【問題5】学習と推定"
   ]
  },
  {
   "cell_type": "markdown",
   "id": "8639b856-2128-42b2-a016-8b63b5880c34",
   "metadata": {},
   "source": [
    "### 機械学習スクラッチ入門のSprintで用意したirisデータセットのvirgicolorとvirginicaの2値分類に対してスクラッチ実装の学習と推定を行なってください。\n",
    "### scikit-learnによる実装と比べ、正しく動いているかを確認してください。\n",
    "### AccuracyやPrecision、Recallなどの指標値はscikit-learnを使用してください。 "
   ]
  },
  {
   "cell_type": "code",
   "execution_count": 5,
   "id": "098285a2-019b-4b0e-881b-8a8adadad8b2",
   "metadata": {},
   "outputs": [],
   "source": [
    "import pandas as pd\n",
    "import numpy as np\n",
    "from sklearn.datasets import load_iris\n",
    "\n",
    "iris = load_iris()\n",
    "X = pd.DataFrame(iris.data,columns=[\"sepal_length\",\"sepal_width\",\"petal_length\",\"petal_width\"] )\n",
    "Y = pd.DataFrame(iris.target,columns=[\"Species\"])\n",
    "df = pd.concat([X,Y],axis=1)\n",
    "\n",
    "# sample_data = df.loc[50:149,[\"sepal_length\",\"petal_length\",\"Species\"]]\n",
    "# print(sample_data)"
   ]
  },
  {
   "cell_type": "code",
   "execution_count": 121,
   "id": "3f663a1d-2f8b-4079-9750-d466b3c6ac40",
   "metadata": {},
   "outputs": [],
   "source": [
    "class ScratchLogisticRegression():\n",
    "    \"\"\"\n",
    "    ロジスティック回帰のスクラッチ実装\n",
    "    Parameters\n",
    "    ----------\n",
    "    num_iter : int\n",
    "      イテレーション数\n",
    "    lr : float\n",
    "      学習率\n",
    "    no_bias : bool\n",
    "      バイアス項を入れない場合はTrue\n",
    "    verbose : bool\n",
    "      学習過程を出力する場合はTrue\n",
    "    Attributes\n",
    "    ----------\n",
    "    self.coef_ : 次の形のndarray, shape (n_features,)\n",
    "      パラメータ\n",
    "    self.loss : 次の形のndarray, shape (self.iter,)\n",
    "      訓練データに対する損失の記録\n",
    "    self.val_loss : 次の形のndarray, shape (self.iter,)\n",
    "      検証データに対する損失の記録\n",
    "    \"\"\"\n",
    "    def __init__(self, num_iter, lr, bias, verbose):\n",
    "        # ハイパーパラメータを属性として記録\n",
    "        self.iter = num_iter\n",
    "        self.lr = lr\n",
    "        self.bias = bias\n",
    "        #self.verbose = verbose\n",
    "        \n",
    "        # 損失を記録する配列を用意\n",
    "        self.loss = np.zeros(self.iter)\n",
    "        self.test_loss = np.zeros(self.iter +1)\n",
    "        \n",
    "    def fit(self, X, y, X_test=None, y_test=None):\n",
    "        \"\"\"\n",
    "        ロジスティック回帰を学習する。検証データが入力された場合はそれに対する損失と精度もイテレーションごとに計算する。\n",
    "        Parameters\n",
    "        ----------\n",
    "        X : 次の形のndarray, shape (n_samples, n_features)\n",
    "            訓練データの特徴量\n",
    "        y : 次の形のndarray, shape (n_samples, )\n",
    "            訓練データの正解値\n",
    "        X_val : 次の形のndarray, shape (n_samples, n_features)\n",
    "            検証データの特徴量\n",
    "        y_val : 次の形のndarray, shape (n_samples, )\n",
    "            検証データの正解値\n",
    "        \"\"\"\n",
    "        self.theta = np.random.rand(X.shape[1]+1)\n",
    " \n",
    "\n",
    "        for n in range(self.iter):                  # イテレーション数だけ繰り返す\n",
    "            self.y_hat = self._linear_hypo(X)                       \n",
    "            self.theta = self._grad(X,y,self.y_hat)\n",
    "            self.loss[n] = np.sum(self._error(self.y_hat,y)**2)/X.shape[0]         # X,yの誤差を代入\n",
    "        \n",
    "            self.y_hat_test = self._linear_hypo(X_test)                       \n",
    "            self.theta = self._grad(X_test,y_test,self.y_hat_test)\n",
    "            self.test_loss[n] = np.sum(self._error(self.y_hat_test,y_test)**2)/X_test.shape[0]    \n",
    "            \n",
    "        pass\n",
    "        return \n",
    "        \n",
    "    def _linear_hypo(self, X):  #仮定関数\n",
    "        a = np.ones(X.shape[0])       # Xと同じ長さの１の配列を作る\n",
    "        a_=a.reshape(X.shape[0], 1)   # X_の配列の型を変更する\n",
    "        self.X_ = np.hstack([a_ ,X])         # X,X_を結合させる\n",
    "        self.theta = np.random.rand(self.X_.shape[1], 1)\n",
    "        self.y_ = 1/(1 + np.exp(-np.dot(self.X_,self.theta)))\n",
    "        return self.y_\n",
    "\n",
    "    def _error(self,y_hat,y):\n",
    "        error = y_hat - y\n",
    "        return error\n",
    "\n",
    "    def _grad(self,X,y,y_hat):\n",
    "        \n",
    "        m = self.X_.shape[0]  #サンプル数\n",
    "        n = self.X_.shape[1]  #特徴量数\n",
    "        #self.theta = np.array([n])\n",
    "        for j in range(n):\n",
    "            grad = 0\n",
    "            for i in range(m):\n",
    "                grad += (self.y_hat[i]-y[i]) * self.X_[i,j] + (1/m)*self.theta[j]\n",
    "            self.theta[j] =self.theta[j] -  (self.lr/m)*grad\n",
    "\n",
    "        return self.theta\n",
    "    \n",
    "    def _loss(self,X,y):\n",
    "    \n",
    "        return (-y*np.log(self._linear_hypo(X))-(1-y)*np.log(1-self._linear_hypo(X)))\n",
    "\n",
    "    def predict(self,X):\n",
    "        return np.where( X >= 0.99995, 2, 1)\n",
    "    \n",
    "    def predict_prob(self,z):\n",
    "        return 1/(1 + np.exp(-np.dot(self.X_,self.theta)))"
   ]
  },
  {
   "cell_type": "code",
   "execution_count": 122,
   "id": "d98e27fe-7a8a-4779-b9e2-3389d7895169",
   "metadata": {},
   "outputs": [
    {
     "name": "stdout",
     "output_type": "stream",
     "text": [
      "(75, 2)\n",
      "(75, 1)\n"
     ]
    }
   ],
   "source": [
    "import numpy as np\n",
    "import pandas as pd\n",
    "from sklearn.model_selection import train_test_split\n",
    "import matplotlib.pyplot as plt\n",
    "%matplotlib inline\n",
    "import warnings #ワーニング関連のモジュール？\n",
    "warnings.filterwarnings('ignore') #ワーニングが消える？\n",
    "\n",
    "iris_list = df.loc[50:149,[\"sepal_length\",\"petal_length\"]]#,\"sepal_width\",\"petal_width\"]]\n",
    "Species = df.loc[50:149,[\"Species\"]]\n",
    "X = np.array(iris_list)#iris_list_virginica))\n",
    "y = np.array(Species)\n",
    "\n",
    "X_train, X_test, y_train, y_test = train_test_split(X, y, test_size=0.25)\n",
    "print(X_train.shape)\n",
    "print(y_train.shape)"
   ]
  },
  {
   "cell_type": "code",
   "execution_count": 123,
   "id": "0ebe01ca-8aff-4de9-9c36-fac22251f88f",
   "metadata": {},
   "outputs": [
    {
     "name": "stdout",
     "output_type": "stream",
     "text": [
      "StandardScaler()\n",
      "[[-1.26383425 -0.49078028]\n",
      " [ 0.90097156 -0.10868491]\n",
      " [-0.6453183  -1.1276059 ]\n",
      " [-0.6453183   0.27341047]\n",
      " [ 0.12782663  0.91023609]\n",
      " [ 0.28245562  0.52814072]\n",
      " [-0.95457628 -1.00024078]\n",
      " [-0.18143134 -0.36341515]\n",
      " [ 0.74634257  0.14604534]\n",
      " [-1.88235019 -2.01916177]\n",
      " [ 0.12782663  1.41969658]\n",
      " [-0.49068932 -0.87287565]\n",
      " [ 0.74634257 -0.6181454 ]\n",
      " [-0.33606033 -0.10868491]\n",
      " [-1.88235019 -1.76443152]\n",
      " [ 0.12782663  0.27341047]\n",
      " [-0.6453183   0.27341047]\n",
      " [ 0.4370846   1.16496634]\n",
      " [-0.79994729  0.14604534]\n",
      " [-0.18143134 -0.23605003]\n",
      " [-1.72772121 -2.40125714]\n",
      " [-0.95457628 -1.25497102]\n",
      " [ 0.4370846  -0.36341515]\n",
      " [-0.95457628  0.01868022]\n",
      " [-0.02680236 -0.10868491]\n",
      " [-0.33606033 -0.49078028]\n",
      " [-1.10920526 -1.50970127]\n",
      " [-0.02680236 -0.74551053]\n",
      " [ 1.21022953 -0.23605003]\n",
      " [-0.18143134  0.91023609]\n",
      " [-0.33606033 -1.1276059 ]\n",
      " [-0.49068932  0.27341047]\n",
      " [-0.18143134 -1.1276059 ]\n",
      " [ 0.74634257  1.03760121]\n",
      " [ 0.28245562 -0.49078028]\n",
      " [ 1.51948751  1.41969658]\n",
      " [-0.02680236 -0.49078028]\n",
      " [ 0.74634257 -0.23605003]\n",
      " [-0.33606033 -0.49078028]\n",
      " [-0.79994729 -0.49078028]\n",
      " [-0.95457628 -1.6370664 ]\n",
      " [-0.95457628 -0.87287565]\n",
      " [ 2.29263244  1.54706171]\n",
      " [ 0.28245562  0.91023609]\n",
      " [-2.03697918 -0.49078028]\n",
      " [ 1.82874548  1.54706171]\n",
      " [-1.57309222 -1.25497102]\n",
      " [ 1.51948751  1.54706171]\n",
      " [-1.10920526 -1.1276059 ]\n",
      " [ 0.12782663  0.01868022]\n",
      " [ 1.67411649  1.80179196]\n",
      " [ 1.05560055  0.65550584]\n",
      " [ 2.60189041  1.92915708]\n",
      " [-0.33606033  0.14604534]\n",
      " [ 0.28245562  0.91023609]\n",
      " [-0.6453183  -1.00024078]\n",
      " [-0.79994729 -0.87287565]\n",
      " [-0.79994729 -0.87287565]\n",
      " [ 0.4370846   0.27341047]\n",
      " [ 0.90097156  0.78287096]\n",
      " [ 0.12782663  0.01868022]\n",
      " [ 0.74634257  0.40077559]\n",
      " [-1.10920526 -1.1276059 ]\n",
      " [-1.10920526 -0.6181454 ]\n",
      " [ 0.4370846   0.40077559]\n",
      " [ 0.59171359 -0.36341515]\n",
      " [-0.18143134  0.01868022]\n",
      " [ 0.28245562  0.78287096]\n",
      " [ 1.51948751  1.16496634]\n",
      " [ 1.36485852  1.29233146]\n",
      " [-0.02680236  0.65550584]\n",
      " [ 0.74634257  1.16496634]\n",
      " [ 2.29263244  2.5659827 ]\n",
      " [ 0.12782663  0.91023609]\n",
      " [-0.6453183   0.27341047]]\n"
     ]
    }
   ],
   "source": [
    "from sklearn.preprocessing import StandardScaler\n",
    "scaler = StandardScaler()\n",
    "print(scaler.fit(X_train))\n",
    "#print(scaler.mean_)\n",
    "#print(scaler.var_)\n",
    "X_train_trasformed= scaler.transform(X_train)\n",
    "X_test_trasformed= scaler.transform(X_test)\n",
    "print(X_train_trasformed)\n",
    "#print(X_test_trasformed)"
   ]
  },
  {
   "cell_type": "code",
   "execution_count": 166,
   "id": "f4b130e8-75e0-48ff-a9cb-8db57aaed525",
   "metadata": {},
   "outputs": [],
   "source": [
    "'''ロジスティック回帰モデルの作成'''\n",
    "#モジュール読み込み、モデル構築\n",
    "slr = ScratchLogisticRegression(num_iter=10, lr = 0.1,bias=True, verbose=False)\n",
    "#モデルの学習\n",
    "slr.fit(X_train,y_train,X_test,y_test)\n",
    "#print(type(slr))\n",
    "#print(slr.loss)\n",
    "y_pred_prob = slr.predict_prob(X_train)\n",
    "#print(y_pred_prob)\n",
    "y_pred = slr.predict(y_pred_prob)\n",
    "#print(y_pred)"
   ]
  },
  {
   "cell_type": "code",
   "execution_count": 135,
   "id": "b9f2b3aa-4e7d-44a3-9372-f5c629dfff92",
   "metadata": {},
   "outputs": [
    {
     "name": "stdout",
     "output_type": "stream",
     "text": [
      "[[ 6  8]\n",
      " [ 0 11]]\n"
     ]
    }
   ],
   "source": [
    "#Accuracy（正解率）\n",
    "from sklearn.metrics import accuracy_score\n",
    "from sklearn import metrics\n",
    "from sklearn.metrics import classification_report\n",
    "from sklearn.metrics import confusion_matrix\n",
    "\n",
    "\n",
    "y_pred_prob_t = slr.predict_prob(X_test)\n",
    "#print(y_pred_prob_t)\n",
    "y_pred_t = slr.predict(y_pred_prob_t)\n",
    "#print(y_pred_t)\n",
    "\n",
    "\n",
    "y_true = y_test\n",
    "\n",
    "#print(y_true.T)\n",
    "#print(y_pred_t.T)\n",
    "metrics.accuracy_score(y_true, y_pred_t)\n",
    "confusion_matrix(y_true, y_pred_t)\n",
    "print(confusion_matrix(y_true, y_pred_t))"
   ]
  },
  {
   "cell_type": "code",
   "execution_count": null,
   "id": "7a2b5974-f395-40f2-8609-bcfd4bb95187",
   "metadata": {},
   "outputs": [],
   "source": []
  },
  {
   "cell_type": "markdown",
   "id": "9485dcec-90da-4351-931f-620d2b6b518a",
   "metadata": {},
   "source": [
    "## 【問題6】学習曲線のプロット"
   ]
  },
  {
   "cell_type": "markdown",
   "id": "480b2481-f8e1-4fe7-a558-a9e87d3dc768",
   "metadata": {},
   "source": [
    "### 学習曲線を見て損失が適切に下がっているかどうか確認してください。"
   ]
  },
  {
   "cell_type": "code",
   "execution_count": 132,
   "id": "a2873983-c152-480a-b64e-7ef29cd8f2dd",
   "metadata": {},
   "outputs": [
    {
     "data": {
      "image/png": "[encoded data removed]",
      "text/plain": [
       "<Figure size 432x288 with 1 Axes>"
      ]
     },
     "metadata": {
      "needs_background": "light"
     },
     "output_type": "display_data"
    }
   ],
   "source": [
    "# グラフを表示する。タイトルと軸ラベル名付き。\n",
    "plt.title(\"loss\")\n",
    "plt.xlabel(\"iter\")\n",
    "plt.ylabel(\"lr\")\n",
    "plt.plot(slr.loss,label = \"train_loss\") \n",
    "plt.plot(slr.test_loss,label = \"test_loss\")\n",
    "plt.legend()\n",
    "plt.show() "
   ]
  },
  {
   "cell_type": "markdown",
   "id": "3f662c46-b536-4bf6-8829-658136b87e1b",
   "metadata": {},
   "source": [
    "## 【問題7】決定領域の可視化"
   ]
  },
  {
   "cell_type": "markdown",
   "id": "cf685d50-3aff-46d9-a3ee-625133343281",
   "metadata": {},
   "source": [
    "### 決定領域を可視化してください。"
   ]
  },
  {
   "cell_type": "code",
   "execution_count": 168,
   "id": "3856f7e7-6ea3-4686-923c-65ed14d0bd19",
   "metadata": {},
   "outputs": [],
   "source": [
    "import matplotlib.pyplot as plt\n",
    "from matplotlib.colors import ListedColormap\n",
    "import matplotlib.patches as mpatches\n",
    "def decision_region(X, y, model, step=0.01, title='decision region', xlabel='xlabel', ylabel='ylabel', target_names=['versicolor', 'virginica']):\n",
    "# setting\n",
    "    scatter_color = ['red', 'blue']\n",
    "    contourf_color = ['pink', 'skyblue']\n",
    "    n_class = 2\n",
    "    # pred\n",
    "    mesh_f0, mesh_f1  = np.meshgrid(np.arange(np.min(X[:,0])-0.5, np.max(X[:,0])+0.5, step), np.arange(np.min(X[:,1])-0.5, np.max(X[:,1])+0.5, step))\n",
    "    mesh = np.c_[np.ravel(mesh_f0),np.ravel(mesh_f1)]\n",
    "    y_pred = model.predict(mesh).reshape(mesh_f0.shape)\n",
    "    # plot\n",
    "    plt.title(title)\n",
    "    plt.xlabel(xlabel)\n",
    "    plt.ylabel(ylabel)\n",
    "    plt.contourf(mesh_f0, mesh_f1, y_pred, n_class-1, cmap=ListedColormap(contourf_color))\n",
    "    plt.contour(mesh_f0, mesh_f1, y_pred, n_class-1, colors='y', linewidths=3, alpha=0.5)\n",
    "    for i, target in enumerate(set(y)):\n",
    "        plt.scatter(X[y==target][:, 1], X[y==target][:, 2], s=80, color=scatter_color[i], label=target_names[i], marker='o')\n",
    "    patches = [mpatches.Patch(color=scatter_color[i], label=target_names[i]) for i in range(n_class)]\n",
    "    plt.legend(handles=patches)\n",
    "    plt.legend()\n",
    "    plt.show()"
   ]
  },
  {
   "cell_type": "code",
   "execution_count": 159,
   "id": "544aca59-451e-4cad-a5e5-7848c1438433",
   "metadata": {},
   "outputs": [],
   "source": [
    "#print(X_train_trasformed)\n",
    "y_train = y_train.reshape(-1)"
   ]
  },
  {
   "cell_type": "code",
   "execution_count": 160,
   "id": "ed96ce5b-d84b-4477-8d90-2cc3fc188fe9",
   "metadata": {},
   "outputs": [],
   "source": [
    "y_true = y_true.reshape(-1)\n",
    "y_pred = y_pred.reshape(-1)"
   ]
  },
  {
   "cell_type": "code",
   "execution_count": 169,
   "id": "8841ea3a-eef4-4baf-8dd9-69bca479709b",
   "metadata": {},
   "outputs": [
    {
     "name": "stdout",
     "output_type": "stream",
     "text": [
      "confusion matrix = \n",
      " [[ 6  8]\n",
      " [ 0 11]]\n",
      "accuracy =  0.68\n",
      "precision =  1.0\n",
      "recall =  0.42857142857142855\n",
      "f1 score =  0.6\n",
      "                   1          2  accuracy  macro avg  weighted avg\n",
      "precision   1.000000   0.733333      0.84   0.866667      0.882667\n",
      "recall      0.714286   1.000000      0.84   0.857143      0.840000\n",
      "f1-score    0.833333   0.846154      0.84   0.839744      0.838974\n",
      "support    14.000000  11.000000      0.84  25.000000     25.000000\n"
     ]
    },
    {
     "ename": "ValueError",
     "evalue": "cannot reshape array of size 673416 into shape (597,564)",
     "output_type": "error",
     "traceback": [
      "\u001b[0;31m---------------------------------------------------------------------------\u001b[0m",
      "\u001b[0;31mValueError\u001b[0m                                Traceback (most recent call last)",
      "\u001b[0;32m<ipython-input-169-ff6fc04d2b4c>\u001b[0m in \u001b[0;36m<module>\u001b[0;34m\u001b[0m\n\u001b[1;32m     13\u001b[0m \u001b[0mprint\u001b[0m\u001b[0;34m(\u001b[0m\u001b[0mdf1\u001b[0m\u001b[0;34m)\u001b[0m\u001b[0;34m\u001b[0m\u001b[0;34m\u001b[0m\u001b[0m\n\u001b[1;32m     14\u001b[0m \u001b[0;34m\u001b[0m\u001b[0m\n\u001b[0;32m---> 15\u001b[0;31m \u001b[0mdecision_region\u001b[0m\u001b[0;34m(\u001b[0m\u001b[0mX_train_trasformed\u001b[0m\u001b[0;34m,\u001b[0m \u001b[0my_train\u001b[0m\u001b[0;34m,\u001b[0m \u001b[0mmodel\u001b[0m\u001b[0;34m=\u001b[0m\u001b[0mslr\u001b[0m\u001b[0;34m,\u001b[0m \u001b[0mstep\u001b[0m\u001b[0;34m=\u001b[0m\u001b[0;36m0.01\u001b[0m\u001b[0;34m,\u001b[0m \u001b[0mtitle\u001b[0m\u001b[0;34m=\u001b[0m\u001b[0;34m'decision region'\u001b[0m\u001b[0;34m,\u001b[0m \u001b[0mxlabel\u001b[0m\u001b[0;34m=\u001b[0m\u001b[0;34m'xlabel'\u001b[0m\u001b[0;34m,\u001b[0m \u001b[0mylabel\u001b[0m\u001b[0;34m=\u001b[0m\u001b[0;34m'ylabel'\u001b[0m\u001b[0;34m,\u001b[0m \u001b[0mtarget_names\u001b[0m\u001b[0;34m=\u001b[0m\u001b[0;34m[\u001b[0m\u001b[0;34m'versicolor'\u001b[0m\u001b[0;34m,\u001b[0m \u001b[0;34m'virginica'\u001b[0m\u001b[0;34m]\u001b[0m\u001b[0;34m)\u001b[0m\u001b[0;34m\u001b[0m\u001b[0;34m\u001b[0m\u001b[0m\n\u001b[0m",
      "\u001b[0;32m<ipython-input-168-6376137389c3>\u001b[0m in \u001b[0;36mdecision_region\u001b[0;34m(X, y, model, step, title, xlabel, ylabel, target_names)\u001b[0m\n\u001b[1;32m     10\u001b[0m     \u001b[0mmesh_f0\u001b[0m\u001b[0;34m,\u001b[0m \u001b[0mmesh_f1\u001b[0m  \u001b[0;34m=\u001b[0m \u001b[0mnp\u001b[0m\u001b[0;34m.\u001b[0m\u001b[0mmeshgrid\u001b[0m\u001b[0;34m(\u001b[0m\u001b[0mnp\u001b[0m\u001b[0;34m.\u001b[0m\u001b[0marange\u001b[0m\u001b[0;34m(\u001b[0m\u001b[0mnp\u001b[0m\u001b[0;34m.\u001b[0m\u001b[0mmin\u001b[0m\u001b[0;34m(\u001b[0m\u001b[0mX\u001b[0m\u001b[0;34m[\u001b[0m\u001b[0;34m:\u001b[0m\u001b[0;34m,\u001b[0m\u001b[0;36m0\u001b[0m\u001b[0;34m]\u001b[0m\u001b[0;34m)\u001b[0m\u001b[0;34m-\u001b[0m\u001b[0;36m0.5\u001b[0m\u001b[0;34m,\u001b[0m \u001b[0mnp\u001b[0m\u001b[0;34m.\u001b[0m\u001b[0mmax\u001b[0m\u001b[0;34m(\u001b[0m\u001b[0mX\u001b[0m\u001b[0;34m[\u001b[0m\u001b[0;34m:\u001b[0m\u001b[0;34m,\u001b[0m\u001b[0;36m0\u001b[0m\u001b[0;34m]\u001b[0m\u001b[0;34m)\u001b[0m\u001b[0;34m+\u001b[0m\u001b[0;36m0.5\u001b[0m\u001b[0;34m,\u001b[0m \u001b[0mstep\u001b[0m\u001b[0;34m)\u001b[0m\u001b[0;34m,\u001b[0m \u001b[0mnp\u001b[0m\u001b[0;34m.\u001b[0m\u001b[0marange\u001b[0m\u001b[0;34m(\u001b[0m\u001b[0mnp\u001b[0m\u001b[0;34m.\u001b[0m\u001b[0mmin\u001b[0m\u001b[0;34m(\u001b[0m\u001b[0mX\u001b[0m\u001b[0;34m[\u001b[0m\u001b[0;34m:\u001b[0m\u001b[0;34m,\u001b[0m\u001b[0;36m1\u001b[0m\u001b[0;34m]\u001b[0m\u001b[0;34m)\u001b[0m\u001b[0;34m-\u001b[0m\u001b[0;36m0.5\u001b[0m\u001b[0;34m,\u001b[0m \u001b[0mnp\u001b[0m\u001b[0;34m.\u001b[0m\u001b[0mmax\u001b[0m\u001b[0;34m(\u001b[0m\u001b[0mX\u001b[0m\u001b[0;34m[\u001b[0m\u001b[0;34m:\u001b[0m\u001b[0;34m,\u001b[0m\u001b[0;36m1\u001b[0m\u001b[0;34m]\u001b[0m\u001b[0;34m)\u001b[0m\u001b[0;34m+\u001b[0m\u001b[0;36m0.5\u001b[0m\u001b[0;34m,\u001b[0m \u001b[0mstep\u001b[0m\u001b[0;34m)\u001b[0m\u001b[0;34m)\u001b[0m\u001b[0;34m\u001b[0m\u001b[0;34m\u001b[0m\u001b[0m\n\u001b[1;32m     11\u001b[0m     \u001b[0mmesh\u001b[0m \u001b[0;34m=\u001b[0m \u001b[0mnp\u001b[0m\u001b[0;34m.\u001b[0m\u001b[0mc_\u001b[0m\u001b[0;34m[\u001b[0m\u001b[0mnp\u001b[0m\u001b[0;34m.\u001b[0m\u001b[0mravel\u001b[0m\u001b[0;34m(\u001b[0m\u001b[0mmesh_f0\u001b[0m\u001b[0;34m)\u001b[0m\u001b[0;34m,\u001b[0m\u001b[0mnp\u001b[0m\u001b[0;34m.\u001b[0m\u001b[0mravel\u001b[0m\u001b[0;34m(\u001b[0m\u001b[0mmesh_f1\u001b[0m\u001b[0;34m)\u001b[0m\u001b[0;34m]\u001b[0m\u001b[0;34m\u001b[0m\u001b[0;34m\u001b[0m\u001b[0m\n\u001b[0;32m---> 12\u001b[0;31m     \u001b[0my_pred\u001b[0m \u001b[0;34m=\u001b[0m \u001b[0mmodel\u001b[0m\u001b[0;34m.\u001b[0m\u001b[0mpredict\u001b[0m\u001b[0;34m(\u001b[0m\u001b[0mmesh\u001b[0m\u001b[0;34m)\u001b[0m\u001b[0;34m.\u001b[0m\u001b[0mreshape\u001b[0m\u001b[0;34m(\u001b[0m\u001b[0mmesh_f0\u001b[0m\u001b[0;34m.\u001b[0m\u001b[0mshape\u001b[0m\u001b[0;34m)\u001b[0m\u001b[0;34m\u001b[0m\u001b[0;34m\u001b[0m\u001b[0m\n\u001b[0m\u001b[1;32m     13\u001b[0m     \u001b[0;31m# plot\u001b[0m\u001b[0;34m\u001b[0m\u001b[0;34m\u001b[0m\u001b[0;34m\u001b[0m\u001b[0m\n\u001b[1;32m     14\u001b[0m     \u001b[0mplt\u001b[0m\u001b[0;34m.\u001b[0m\u001b[0mtitle\u001b[0m\u001b[0;34m(\u001b[0m\u001b[0mtitle\u001b[0m\u001b[0;34m)\u001b[0m\u001b[0;34m\u001b[0m\u001b[0;34m\u001b[0m\u001b[0m\n",
      "\u001b[0;31mValueError\u001b[0m: cannot reshape array of size 673416 into shape (597,564)"
     ]
    }
   ],
   "source": [
    "from sklearn.metrics import precision_score\n",
    "from sklearn.metrics import recall_score\n",
    "from sklearn.metrics import f1_score\n",
    "\n",
    "print('confusion matrix = \\n', confusion_matrix(y_true, y_pred_t))\n",
    "print('accuracy = ', accuracy_score(y_true, y_pred_t))\n",
    "print('precision = ', precision_score(y_true, y_pred_t))\n",
    "print('recall = ', recall_score(y_true, y_pred_t))\n",
    "print('f1 score = ', f1_score(y_true, y_pred_t))\n",
    "\n",
    "d1 = classification_report(y_true, y_pred, output_dict=True)\n",
    "df1 = pd.DataFrame(d1)\n",
    "print(df1)\n",
    "\n",
    "decision_region(X_train_trasformed, y_train, model=slr, step=0.01, title='decision region', xlabel='xlabel', ylabel='ylabel', target_names=['versicolor', 'virginica'])\n"
   ]
  },
  {
   "cell_type": "code",
   "execution_count": null,
   "id": "ab12d4ea-f63c-4e37-9a22-b731c1bb054d",
   "metadata": {},
   "outputs": [],
   "source": []
  }
 ],
 "metadata": {
  "kernelspec": {
   "display_name": "Python 3",
   "language": "python",
   "name": "python3"
  },
  "language_info": {
   "codemirror_mode": {
    "name": "ipython",
    "version": 3
   },
   "file_extension": ".py",
   "mimetype": "text/x-python",
   "name": "python",
   "nbconvert_exporter": "python",
   "pygments_lexer": "ipython3",
   "version": "3.8.8"
  }
 },
 "nbformat": 4,
 "nbformat_minor": 5
}
